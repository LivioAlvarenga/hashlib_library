{
 "metadata": {
  "language_info": {
   "codemirror_mode": {
    "name": "ipython",
    "version": 3
   },
   "file_extension": ".py",
   "mimetype": "text/x-python",
   "name": "python",
   "nbconvert_exporter": "python",
   "pygments_lexer": "ipython3",
   "version": "3.9.5"
  },
  "orig_nbformat": 2,
  "kernelspec": {
   "name": "python3",
   "display_name": "Python 3.9.5 64-bit"
  },
  "interpreter": {
   "hash": "b8e920ee31e7e3dc283331744284dc5060870b60f8b605138959489677438823"
  }
 },
 "nbformat": 4,
 "nbformat_minor": 2,
 "cells": [
  {
   "source": [
    "<h1>hashlib</h1>"
   ],
   "cell_type": "markdown",
   "metadata": {}
  },
  {
   "cell_type": "code",
   "execution_count": 2,
   "metadata": {},
   "outputs": [],
   "source": [
    "import hashlib"
   ]
  },
  {
   "source": [
    "<h2><font color=#00BFFF>Verificando as possibilidades</font></h2>"
   ],
   "cell_type": "markdown",
   "metadata": {}
  },
  {
   "cell_type": "code",
   "execution_count": 4,
   "metadata": {},
   "outputs": [
    {
     "output_type": "stream",
     "name": "stdout",
     "text": [
      "{'sha256', 'sha512_224', 'md4', 'sha3_224', 'sha1', 'md5', 'shake_128', 'blake2b', 'blake2s', 'sha512_256', 'ripemd160', 'md5-sha1', 'mdc2', 'sha384', 'sha3_384', 'whirlpool', 'sm3', 'sha512', 'shake_256', 'sha3_256', 'sha224', 'sha3_512'}\n"
     ]
    }
   ],
   "source": [
    "print(hashlib.algorithms_available)"
   ]
  },
  {
   "cell_type": "code",
   "execution_count": 6,
   "metadata": {},
   "outputs": [
    {
     "output_type": "stream",
     "name": "stdout",
     "text": [
      "{'sha256', 'sha512', 'shake_256', 'sha3_256', 'sha3_224', 'sha1', 'md5', 'shake_128', 'sha224', 'blake2b', 'sha3_512', 'sha384', 'blake2s', 'sha3_384'}\n"
     ]
    }
   ],
   "source": [
    "print(hashlib.algorithms_guaranteed)"
   ]
  },
  {
   "source": [
    "<h2><font color=#00BFFF>Entendendo encode()</font></h2>\n",
    "\n",
    "<https://www.programiz.com/python-programming/methods/string/encode>\n",
    "\n",
    "O método string encode() retorna a versão codificada da string fornecida.\n",
    "\n",
    "Desde o Python 3.0, as strings são armazenadas como Unicode, ou seja, cada caractere na string é representado por um ponto de código. Portanto, cada string é apenas uma sequência de pontos de código Unicode.\n",
    "\n",
    "Para armazenamento eficiente dessas strings, a sequência de pontos de código é convertida em um conjunto de bytes. O processo é conhecido como codificação.\n",
    "\n",
    "Existem várias codificações presentes que tratam uma string de maneira diferente. As codificações populares são utf-8 , ascii , etc.\n",
    "\n",
    "Usando o encode() método de string , você pode converter strings não codificadas em qualquer codificação compatível com Python . Por padrão, Python usa codificação utf-8.\n",
    "\n",
    "Sintax:\n",
    "\n",
    "string.encode(encoding='UTF-8',errors='strict')\n",
    "\n",
    "errors:\n",
    "\n",
    "strict - resposta padrão que levanta uma exceção UnicodeDecodeError em caso de falha.\n",
    "\n",
    "ignore - ignora o unicode não codificado do resultado.\n",
    "\n",
    "replace - substitui o Unicode não codificado por um ponto de interrogação \"?\"\n",
    "\n",
    "xmlcharrefreplace - insere referência de caractere XML em vez de unicode não codificável\n",
    "\n",
    "backslashreplace - insere uma sequência de escape \\ uNNNN em vez de unicode não codificável\n",
    "\n",
    "namereplace - insere uma sequência de escape \\ N {...} em vez de unicode não codificável"
   ],
   "cell_type": "markdown",
   "metadata": {}
  },
  {
   "cell_type": "code",
   "execution_count": 8,
   "metadata": {},
   "outputs": [
    {
     "output_type": "stream",
     "name": "stdout",
     "text": [
      "A string é: pythön! e seu tipo é: <class 'str'>\n\nA versão com encode() é: b'pyth\\xc3\\xb6n!'  e seu tipo é: <class 'bytes'>\n"
     ]
    }
   ],
   "source": [
    "# unicode string\n",
    "string = 'pythön!'\n",
    "\n",
    "# imprimindo a string e seu tipo\n",
    "print(f'A string é: {string} e seu tipo é: {type(string)}\\n')\n",
    "\n",
    "# o padrão é utf-8\n",
    "string_utf = string.encode()\n",
    "\n",
    "# imprimindo o resultado e seu tipo\n",
    "print(f'A versão com encode() é: {string_utf}  e seu tipo é: {type(string_utf)}')"
   ]
  },
  {
   "cell_type": "code",
   "execution_count": 10,
   "metadata": {},
   "outputs": [
    {
     "output_type": "stream",
     "name": "stdout",
     "text": [
      "A string é: pythön! e seu tipo é: <class 'str'>\n\nA versão com encode(\"ascii\", \"ignore\") é: b'pythn!'  e seu tipo é: <class 'bytes'>\n\nA versão com encode(\"ascii\", \"replace\") é: b'pyth?n!'  e seu tipo é: <class 'bytes'>\n"
     ]
    }
   ],
   "source": [
    "# unicode string\n",
    "string = 'pythön!'\n",
    "\n",
    "# imprimindo a string e seu tipo\n",
    "print(f'A string é: {string} e seu tipo é: {type(string)}\\n')\n",
    "\n",
    "# usando o parametro de erro ignore\n",
    "print(f'A versão com encode(\"ascii\", \"ignore\") é: {string.encode(\"ascii\", \"ignore\")}  e seu tipo é: {type(string.encode(\"ascii\", \"ignore\"))}\\n')\n",
    "\n",
    "# usando o parametro de erro replace\n",
    "print(f'A versão com encode(\"ascii\", \"replace\") é: {string.encode(\"ascii\", \"replace\")}  e seu tipo é: {type(string.encode(\"ascii\", \"ignore\"))}')"
   ]
  },
  {
   "source": [
    "<h2><font color=#00BFFF>Exemplo para hashlib.sha256</font></h2>"
   ],
   "cell_type": "markdown",
   "metadata": {}
  },
  {
   "cell_type": "code",
   "execution_count": 11,
   "metadata": {},
   "outputs": [
    {
     "output_type": "stream",
     "name": "stdout",
     "text": [
      "O tipo da string senha é: <class 'str'>\n\nO tipo da string senha é: <class 'bytes'>\n\nsenha_b é: b'Ana@2021'\n"
     ]
    }
   ],
   "source": [
    "# O hashlib.sha256 usa string \"str\" codificada em binario e usamos o encode() ou simplesmente colocamos um a frente da string b'string'\n",
    "\n",
    "# senha do usuário a ser armazenada como hash\n",
    "senha = 'Ana@2021'\n",
    "print(f'O tipo da string senha é: {type(senha)}\\n')\n",
    "\n",
    "# transformando string em binario\n",
    "senha_b = senha.encode()\n",
    "print(f'O tipo da string senha é: {type(senha_b)}\\n')\n",
    "\n",
    "# se imprimirmos o b estará a frente da string representando a codificação binária\n",
    "print(f'senha_b é: {senha_b}')\n"
   ]
  },
  {
   "cell_type": "code",
   "execution_count": 12,
   "metadata": {},
   "outputs": [
    {
     "output_type": "stream",
     "name": "stdout",
     "text": [
      "sha256 é: <sha256 _hashlib.HASH object @ 0x000001B3286F4930> e seu tipo é: <class '_hashlib.HASH'>\n\nsha256:\nb\"\\xfeU\\xe9\\xb3\\xb5V-\\x80\\x13\\n\\xfa\\xbd\\x81\\x19\\x93y\\x8b\\t'\\x04\\x1684\\xf5\\xed\\xd9\\xe0h\\x85[\\x07~\"\ne seu tipo é: <class '_hashlib.HASH'>\n\nsha256:\nfe55e9b3b5562d80130afabd811993798b092704163834f5edd9e068855b077e\ne seu tipo é: <class '_hashlib.HASH'>\n\n"
     ]
    }
   ],
   "source": [
    "# transformando a senha em hashlib.sha256\n",
    "sha256 = hashlib.sha256(senha_b)\n",
    "print(f'sha256 é: {sha256} e seu tipo é: {type(sha256)}\\n')\n",
    "\n",
    "# usamos o .digest() para finalizar o processo\n",
    "print(f'sha256:\\n{sha256.digest()}\\ne seu tipo é: {type(sha256)}\\n')\n",
    "\n",
    "# usando .hexdigest() para mostrar a hash em formato hexadeciamal\n",
    "print(f'sha256:\\n{sha256.hexdigest()}\\ne seu tipo é: {type(sha256)}\\n')"
   ]
  },
  {
   "source": [
    "<h2><font color=#00BFFF>Exemplo para hashlib.sha256 com .update()</font></h2>\n",
    "\n",
    "É uma boa pratica anexarmos um token junto a senha do usuário e podemos usar update para atualizar uma senha."
   ],
   "cell_type": "markdown",
   "metadata": {}
  },
  {
   "cell_type": "code",
   "execution_count": 13,
   "metadata": {},
   "outputs": [
    {
     "output_type": "stream",
     "name": "stdout",
     "text": [
      "sha256 somente com senha:\nfe55e9b3b5562d80130afabd811993798b092704163834f5edd9e068855b077e\n\nsha256 com senha e token:\n19e7c9a7b2c5051b186ae91c7cb3b05e2458f6d791ce346bb7a9644ac2753950\n\n"
     ]
    }
   ],
   "source": [
    "# Criando um token interno para incluir junto a senha\n",
    "token = 'AmheDFGuyVsss8524'\n",
    "senha = 'Ana@2021'\n",
    "sha256 = hashlib.sha256()\n",
    "\n",
    "# atualizando sha256 com update()\n",
    "sha256.update(senha.encode())\n",
    "# imprimindo somente com senha:\n",
    "print(f'sha256 somente com senha:\\n{sha256.hexdigest()}\\n')\n",
    "\n",
    "# atualizando a senha com token para aumentar a segurança:\n",
    "sha256.update(token.encode())\n",
    "# imprimindo somente com senha e token:\n",
    "print(f'sha256 com senha e token:\\n{sha256.hexdigest()}\\n')\n"
   ]
  },
  {
   "source": [
    "<h2><font color=#00BFFF>Simulando um login</font></h2>"
   ],
   "cell_type": "markdown",
   "metadata": {}
  },
  {
   "cell_type": "code",
   "execution_count": 15,
   "metadata": {},
   "outputs": [
    {
     "output_type": "stream",
     "name": "stdout",
     "text": [
      "==========================================================================================\n",
      "                          SIMULANDO UM LOGIN COM hashlib.sha256                           \n",
      "==========================================================================================\n",
      "livio seja bem vindo!\n",
      "\n",
      "user_true = True\n",
      "validar_pas = True\n",
      "flavia seja bem vindo!\n",
      "\n",
      "Usuário: admin\n",
      "Senha: 7301aea2185d746f95c8c58c86a060d1b4fb7e8cb172d1e5f3dfcaefff1234d9\n",
      "\n",
      "Usuário: livio\n",
      "Senha: d2fa42b6513985c3a447a23e9a3195d3ed7b247b70a39789f4d6926c04c9b112\n",
      "\n",
      "Usuário: flavia\n",
      "Senha: 976504312b5be7154ee1792ac9fa2729650f0e23de9af4759ae92546ed5b5cd6\n",
      "\n"
     ]
    }
   ],
   "source": [
    "import hashlib\n",
    "\n",
    "print(f'{\"\":=^90}\\n{\"SIMULANDO UM LOGIN COM hashlib.sha256\":^90}\\n{\"\":=^90}')\n",
    "\n",
    "# Criando uma função para transformar token mais senha em sha256\n",
    "def criar_senha_sha256(senha):\n",
    "    token = 'AmheDFGuyVsss8524'\n",
    "    return hashlib.sha256(str.encode(token+senha)).hexdigest()\n",
    "\n",
    "# Criando uma função para validar a senha sha256 com a senha digitada\n",
    "def validar_senha_sha256(senha, senha_sha256):\n",
    "    if criar_senha_sha256(senha) == senha_sha256:\n",
    "        return True\n",
    "    return False\n",
    "\n",
    "# simulando um banco de dados com usuário e senha e com primeiro usuário admin\n",
    "senha = criar_senha_sha256('Admin')\n",
    "bd_username_password = {'admin': senha}\n",
    "\n",
    "# criando menu\n",
    "menu = int(input('Digite uma opção:\\n[1] Cadastrar usuário\\n[2] Login\\n[3] Sair do programa\\n'))\n",
    "\n",
    "# criando laço de repetição\n",
    "while menu != 3:\n",
    "\n",
    "    # cadastrando novo usuário\n",
    "    if menu == 1:\n",
    "        new_user = str(input('Digite o nome do usuário: ')).lower().strip()\n",
    "\n",
    "        # criando um laço de repetição para verificar se o usuário ja esta cadastrado\n",
    "        while (new_user in bd_username_password) == True:\n",
    "            new_user = str(input('Este nome de usuário não esta disponivel, digite outro nome do usuário: ')).lower().strip()\n",
    "\n",
    "        pass_new_user = str(input('Digite a senha: ')).lower().strip()\n",
    "\n",
    "        # transformando a senha em hash\n",
    "        pass_new_user = criar_senha_sha256(pass_new_user)\n",
    "        \n",
    "        # armazena no banco de dados ficticio\n",
    "        bd_username_password[new_user]=pass_new_user\n",
    "    \n",
    "    # fazendo login\n",
    "    if menu == 2:\n",
    "        user = str(input('Digite o nome do usuário: ')).lower().strip()\n",
    "        password = str(input('Digite a senha: ')).lower().strip()\n",
    "        \n",
    "        user_true = user in bd_username_password\n",
    "        if user_true:\n",
    "            pass_bd = bd_username_password[user]\n",
    "            validar_pass = validar_senha_sha256(password, pass_bd)\n",
    "        \n",
    "        # criando um laço de repetição para verificar se o usuário esta cadastrado e se a senha confere\n",
    "        while (user_true == False) or (validar_pass == False):\n",
    "\n",
    "            user = str(input('Dados inexistentes digite o nome e senha do usuário ou exit para sair: ')).lower().strip()\n",
    "\n",
    "            if user == 'exit':\n",
    "                break\n",
    "            else:\n",
    "                password = str(input('Digite a senha: ')).lower().strip()\n",
    "                user_true = user in bd_username_password\n",
    "                if user_true:\n",
    "                    pass_bd = bd_username_password[user]\n",
    "                    validar_pass = validar_senha_sha256(password, pass_bd)\n",
    "            \n",
    "            print(f'user_true = {user_true}\\nvalidar_pas = {validar_pass}')\n",
    "            \n",
    "        if (user_true == True) or (validar_pass == True):\n",
    "            print(f'{user} seja bem vindo!\\n')\n",
    "        \n",
    "    menu = int(input('Digite uma opção:\\n[1] Cadastrar usuário\\n[2] Login\\n[3] Sair do programa\\n'))\n",
    "\n",
    "# imprimindo o banco de dados ficticio com os usuários e senha\n",
    "for usuario, senha in bd_username_password.items():\n",
    "    print(f'Usuário: {usuario}\\nSenha: {senha}\\n')\n"
   ]
  }
 ]
}