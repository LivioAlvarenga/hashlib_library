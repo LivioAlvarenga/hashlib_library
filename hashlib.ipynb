{
 "metadata": {
  "language_info": {
   "codemirror_mode": {
    "name": "ipython",
    "version": 3
   },
   "file_extension": ".py",
   "mimetype": "text/x-python",
   "name": "python",
   "nbconvert_exporter": "python",
   "pygments_lexer": "ipython3",
   "version": "3.9.5"
  },
  "orig_nbformat": 2,
  "kernelspec": {
   "name": "python3",
   "display_name": "Python 3.9.5 64-bit"
  },
  "interpreter": {
   "hash": "b8e920ee31e7e3dc283331744284dc5060870b60f8b605138959489677438823"
  }
 },
 "nbformat": 4,
 "nbformat_minor": 2,
 "cells": [
  {
   "cell_type": "markdown",
   "source": [
    "# hashlib"
   ],
   "metadata": {}
  },
  {
   "cell_type": "code",
   "execution_count": 2,
   "source": [
    "import hashlib"
   ],
   "outputs": [],
   "metadata": {}
  },
  {
   "cell_type": "markdown",
   "source": [
    "# Verificando as possibilidades"
   ],
   "metadata": {}
  },
  {
   "cell_type": "code",
   "execution_count": 4,
   "source": [
    "print(hashlib.algorithms_available)"
   ],
   "outputs": [
    {
     "output_type": "stream",
     "name": "stdout",
     "text": [
      "{'sha256', 'sha512_224', 'md4', 'sha3_224', 'sha1', 'md5', 'shake_128', 'blake2b', 'blake2s', 'sha512_256', 'ripemd160', 'md5-sha1', 'mdc2', 'sha384', 'sha3_384', 'whirlpool', 'sm3', 'sha512', 'shake_256', 'sha3_256', 'sha224', 'sha3_512'}\n"
     ]
    }
   ],
   "metadata": {}
  },
  {
   "cell_type": "code",
   "execution_count": 6,
   "source": [
    "print(hashlib.algorithms_guaranteed)"
   ],
   "outputs": [
    {
     "output_type": "stream",
     "name": "stdout",
     "text": [
      "{'sha256', 'sha512', 'shake_256', 'sha3_256', 'sha3_224', 'sha1', 'md5', 'shake_128', 'sha224', 'blake2b', 'sha3_512', 'sha384', 'blake2s', 'sha3_384'}\n"
     ]
    }
   ],
   "metadata": {}
  },
  {
   "cell_type": "markdown",
   "source": [
    "# Entendendo encode()\r\n",
    "\r\n",
    "<https://www.programiz.com/python-programming/methods/string/encode>\r\n",
    "\r\n",
    "O método string encode() retorna a versão codificada da string fornecida.\r\n",
    "\r\n",
    "Desde o Python 3.0, as strings são armazenadas como Unicode, ou seja, cada caractere na string é representado por um ponto de código. Portanto, cada string é apenas uma sequência de pontos de código Unicode.\r\n",
    "\r\n",
    "Para armazenamento eficiente dessas strings, a sequência de pontos de código é convertida em um conjunto de bytes. O processo é conhecido como codificação.\r\n",
    "\r\n",
    "Existem várias codificações presentes que tratam uma string de maneira diferente. As codificações populares são utf-8 , ascii , etc.\r\n",
    "\r\n",
    "Usando o encode() método de string , você pode converter strings não codificadas em qualquer codificação compatível com Python . Por padrão, Python usa codificação utf-8.\r\n",
    "\r\n",
    "__Sintax:__\r\n",
    "\r\n",
    ">string.encode(encoding='UTF-8',errors='strict')\r\n",
    "\r\n",
    "errors:\r\n",
    "\r\n",
    "strict - resposta padrão que levanta uma exceção UnicodeDecodeError em caso de falha.\r\n",
    "\r\n",
    "ignore - ignora o unicode não codificado do resultado.\r\n",
    "\r\n",
    "replace - substitui o Unicode não codificado por um ponto de interrogação \"?\"\r\n",
    "\r\n",
    "xmlcharrefreplace - insere referência de caractere XML em vez de unicode não codificável\r\n",
    "\r\n",
    "backslashreplace - insere uma sequência de escape \\ uNNNN em vez de unicode não codificável\r\n",
    "\r\n",
    "namereplace - insere uma sequência de escape \\ N {...} em vez de unicode não codificável"
   ],
   "metadata": {}
  },
  {
   "cell_type": "code",
   "execution_count": 8,
   "source": [
    "# unicode string\r\n",
    "string = 'pythön!'\r\n",
    "\r\n",
    "# imprimindo a string e seu tipo\r\n",
    "print(f'A string é: {string} e seu tipo é: {type(string)}\\n')\r\n",
    "\r\n",
    "# o padrão é utf-8\r\n",
    "string_utf = string.encode()\r\n",
    "\r\n",
    "# imprimindo o resultado e seu tipo\r\n",
    "print(f'A versão com encode() é: {string_utf}  e seu tipo é: {type(string_utf)}')"
   ],
   "outputs": [
    {
     "output_type": "stream",
     "name": "stdout",
     "text": [
      "A string é: pythön! e seu tipo é: <class 'str'>\n",
      "\n",
      "A versão com encode() é: b'pyth\\xc3\\xb6n!'  e seu tipo é: <class 'bytes'>\n"
     ]
    }
   ],
   "metadata": {}
  },
  {
   "cell_type": "code",
   "execution_count": 10,
   "source": [
    "# unicode string\r\n",
    "string = 'pythön!'\r\n",
    "\r\n",
    "# imprimindo a string e seu tipo\r\n",
    "print(f'A string é: {string} e seu tipo é: {type(string)}\\n')\r\n",
    "\r\n",
    "# usando o parametro de erro ignore\r\n",
    "print(f'A versão com encode(\"ascii\", \"ignore\") é: {string.encode(\"ascii\", \"ignore\")}  e seu tipo é: {type(string.encode(\"ascii\", \"ignore\"))}\\n')\r\n",
    "\r\n",
    "# usando o parametro de erro replace\r\n",
    "print(f'A versão com encode(\"ascii\", \"replace\") é: {string.encode(\"ascii\", \"replace\")}  e seu tipo é: {type(string.encode(\"ascii\", \"ignore\"))}')"
   ],
   "outputs": [
    {
     "output_type": "stream",
     "name": "stdout",
     "text": [
      "A string é: pythön! e seu tipo é: <class 'str'>\n",
      "\n",
      "A versão com encode(\"ascii\", \"ignore\") é: b'pythn!'  e seu tipo é: <class 'bytes'>\n",
      "\n",
      "A versão com encode(\"ascii\", \"replace\") é: b'pyth?n!'  e seu tipo é: <class 'bytes'>\n"
     ]
    }
   ],
   "metadata": {}
  },
  {
   "cell_type": "markdown",
   "source": [
    "## Exemplo para hashlib.sha256"
   ],
   "metadata": {}
  },
  {
   "cell_type": "code",
   "execution_count": 11,
   "source": [
    "# O hashlib.sha256 usa string \"str\" codificada em binario e usamos o encode() ou simplesmente colocamos um a frente da string b'string'\r\n",
    "\r\n",
    "# senha do usuário a ser armazenada como hash\r\n",
    "senha = 'Ana@2021'\r\n",
    "print(f'O tipo da string senha é: {type(senha)}\\n')\r\n",
    "\r\n",
    "# transformando string em binario\r\n",
    "senha_b = senha.encode()\r\n",
    "print(f'O tipo da string senha é: {type(senha_b)}\\n')\r\n",
    "\r\n",
    "# se imprimirmos o b estará a frente da string representando a codificação binária\r\n",
    "print(f'senha_b é: {senha_b}')\r\n"
   ],
   "outputs": [
    {
     "output_type": "stream",
     "name": "stdout",
     "text": [
      "O tipo da string senha é: <class 'str'>\n",
      "\n",
      "O tipo da string senha é: <class 'bytes'>\n",
      "\n",
      "senha_b é: b'Ana@2021'\n"
     ]
    }
   ],
   "metadata": {}
  },
  {
   "cell_type": "code",
   "execution_count": 12,
   "source": [
    "# transformando a senha em hashlib.sha256\r\n",
    "sha256 = hashlib.sha256(senha_b)\r\n",
    "print(f'sha256 é: {sha256} e seu tipo é: {type(sha256)}\\n')\r\n",
    "\r\n",
    "# usamos o .digest() para finalizar o processo\r\n",
    "print(f'sha256:\\n{sha256.digest()}\\ne seu tipo é: {type(sha256)}\\n')\r\n",
    "\r\n",
    "# usando .hexdigest() para mostrar a hash em formato hexadeciamal\r\n",
    "print(f'sha256:\\n{sha256.hexdigest()}\\ne seu tipo é: {type(sha256)}\\n')"
   ],
   "outputs": [
    {
     "output_type": "stream",
     "name": "stdout",
     "text": [
      "sha256 é: <sha256 _hashlib.HASH object @ 0x000001B3286F4930> e seu tipo é: <class '_hashlib.HASH'>\n",
      "\n",
      "sha256:\n",
      "b\"\\xfeU\\xe9\\xb3\\xb5V-\\x80\\x13\\n\\xfa\\xbd\\x81\\x19\\x93y\\x8b\\t'\\x04\\x1684\\xf5\\xed\\xd9\\xe0h\\x85[\\x07~\"\n",
      "e seu tipo é: <class '_hashlib.HASH'>\n",
      "\n",
      "sha256:\n",
      "fe55e9b3b5562d80130afabd811993798b092704163834f5edd9e068855b077e\n",
      "e seu tipo é: <class '_hashlib.HASH'>\n",
      "\n"
     ]
    }
   ],
   "metadata": {}
  },
  {
   "cell_type": "markdown",
   "source": [
    "## Exemplo para hashlib.sha256 com .update()\r\n",
    "\r\n",
    "É uma boa pratica anexarmos um token junto a senha do usuário e podemos usar update para atualizar uma senha."
   ],
   "metadata": {}
  },
  {
   "cell_type": "code",
   "execution_count": 13,
   "source": [
    "# Criando um token interno para incluir junto a senha\r\n",
    "token = 'AmheDFGuyVsss8524'\r\n",
    "senha = 'Ana@2021'\r\n",
    "sha256 = hashlib.sha256()\r\n",
    "\r\n",
    "# atualizando sha256 com update()\r\n",
    "sha256.update(senha.encode())\r\n",
    "# imprimindo somente com senha:\r\n",
    "print(f'sha256 somente com senha:\\n{sha256.hexdigest()}\\n')\r\n",
    "\r\n",
    "# atualizando a senha com token para aumentar a segurança:\r\n",
    "sha256.update(token.encode())\r\n",
    "# imprimindo somente com senha e token:\r\n",
    "print(f'sha256 com senha e token:\\n{sha256.hexdigest()}\\n')\r\n"
   ],
   "outputs": [
    {
     "output_type": "stream",
     "name": "stdout",
     "text": [
      "sha256 somente com senha:\n",
      "fe55e9b3b5562d80130afabd811993798b092704163834f5edd9e068855b077e\n",
      "\n",
      "sha256 com senha e token:\n",
      "19e7c9a7b2c5051b186ae91c7cb3b05e2458f6d791ce346bb7a9644ac2753950\n",
      "\n"
     ]
    }
   ],
   "metadata": {}
  },
  {
   "cell_type": "markdown",
   "source": [
    "### Simulando um login"
   ],
   "metadata": {}
  },
  {
   "cell_type": "code",
   "execution_count": 15,
   "source": [
    "import hashlib\r\n",
    "\r\n",
    "print(f'{\"\":=^90}\\n{\"SIMULANDO UM LOGIN COM hashlib.sha256\":^90}\\n{\"\":=^90}')\r\n",
    "\r\n",
    "# Criando uma função para transformar token mais senha em sha256\r\n",
    "def criar_senha_sha256(senha):\r\n",
    "    token = 'AmheDFGuyVsss8524'\r\n",
    "    return hashlib.sha256(str.encode(token+senha)).hexdigest()\r\n",
    "\r\n",
    "# Criando uma função para validar a senha sha256 com a senha digitada\r\n",
    "def validar_senha_sha256(senha, senha_sha256):\r\n",
    "    if criar_senha_sha256(senha) == senha_sha256:\r\n",
    "        return True\r\n",
    "    return False\r\n",
    "\r\n",
    "# simulando um banco de dados com usuário e senha e com primeiro usuário admin\r\n",
    "senha = criar_senha_sha256('Admin')\r\n",
    "bd_username_password = {'admin': senha}\r\n",
    "\r\n",
    "# criando menu\r\n",
    "menu = int(input('Digite uma opção:\\n[1] Cadastrar usuário\\n[2] Login\\n[3] Sair do programa\\n'))\r\n",
    "\r\n",
    "# criando laço de repetição\r\n",
    "while menu != 3:\r\n",
    "\r\n",
    "    # cadastrando novo usuário\r\n",
    "    if menu == 1:\r\n",
    "        new_user = str(input('Digite o nome do usuário: ')).lower().strip()\r\n",
    "\r\n",
    "        # criando um laço de repetição para verificar se o usuário ja esta cadastrado\r\n",
    "        while (new_user in bd_username_password) == True:\r\n",
    "            new_user = str(input('Este nome de usuário não esta disponivel, digite outro nome do usuário: ')).lower().strip()\r\n",
    "\r\n",
    "        pass_new_user = str(input('Digite a senha: ')).lower().strip()\r\n",
    "\r\n",
    "        # transformando a senha em hash\r\n",
    "        pass_new_user = criar_senha_sha256(pass_new_user)\r\n",
    "        \r\n",
    "        # armazena no banco de dados ficticio\r\n",
    "        bd_username_password[new_user]=pass_new_user\r\n",
    "    \r\n",
    "    # fazendo login\r\n",
    "    if menu == 2:\r\n",
    "        user = str(input('Digite o nome do usuário: ')).lower().strip()\r\n",
    "        password = str(input('Digite a senha: ')).lower().strip()\r\n",
    "        \r\n",
    "        user_true = user in bd_username_password\r\n",
    "        if user_true:\r\n",
    "            pass_bd = bd_username_password[user]\r\n",
    "            validar_pass = validar_senha_sha256(password, pass_bd)\r\n",
    "        \r\n",
    "        # criando um laço de repetição para verificar se o usuário esta cadastrado e se a senha confere\r\n",
    "        while (user_true == False) or (validar_pass == False):\r\n",
    "\r\n",
    "            user = str(input('Dados inexistentes digite o nome e senha do usuário ou exit para sair: ')).lower().strip()\r\n",
    "\r\n",
    "            if user == 'exit':\r\n",
    "                break\r\n",
    "            else:\r\n",
    "                password = str(input('Digite a senha: ')).lower().strip()\r\n",
    "                user_true = user in bd_username_password\r\n",
    "                if user_true:\r\n",
    "                    pass_bd = bd_username_password[user]\r\n",
    "                    validar_pass = validar_senha_sha256(password, pass_bd)\r\n",
    "            \r\n",
    "            print(f'user_true = {user_true}\\nvalidar_pas = {validar_pass}')\r\n",
    "            \r\n",
    "        if (user_true == True) or (validar_pass == True):\r\n",
    "            print(f'{user} seja bem vindo!\\n')\r\n",
    "        \r\n",
    "    menu = int(input('Digite uma opção:\\n[1] Cadastrar usuário\\n[2] Login\\n[3] Sair do programa\\n'))\r\n",
    "\r\n",
    "# imprimindo o banco de dados ficticio com os usuários e senha\r\n",
    "for usuario, senha in bd_username_password.items():\r\n",
    "    print(f'Usuário: {usuario}\\nSenha: {senha}\\n')\r\n"
   ],
   "outputs": [
    {
     "output_type": "stream",
     "name": "stdout",
     "text": [
      "==========================================================================================\n",
      "                          SIMULANDO UM LOGIN COM hashlib.sha256                           \n",
      "==========================================================================================\n",
      "livio seja bem vindo!\n",
      "\n",
      "user_true = True\n",
      "validar_pas = True\n",
      "flavia seja bem vindo!\n",
      "\n",
      "Usuário: admin\n",
      "Senha: 7301aea2185d746f95c8c58c86a060d1b4fb7e8cb172d1e5f3dfcaefff1234d9\n",
      "\n",
      "Usuário: livio\n",
      "Senha: d2fa42b6513985c3a447a23e9a3195d3ed7b247b70a39789f4d6926c04c9b112\n",
      "\n",
      "Usuário: flavia\n",
      "Senha: 976504312b5be7154ee1792ac9fa2729650f0e23de9af4759ae92546ed5b5cd6\n",
      "\n"
     ]
    }
   ],
   "metadata": {}
  },
  {
   "cell_type": "markdown",
   "source": [
    "# bcrypt - library\r\n",
    "\r\n",
    "<https://pypi.org/project/bcrypt/>\r\n"
   ],
   "metadata": {}
  },
  {
   "cell_type": "code",
   "execution_count": 10,
   "source": [
    "import bcrypt\r\n",
    "\r\n",
    "senha = b'admin'\r\n",
    "\r\n",
    "# criando salt\r\n",
    "salt = bcrypt.gensalt()\r\n",
    "\r\n",
    "# gerando hash\r\n",
    "hashed = bcrypt.hashpw(senha, salt)\r\n",
    "print(hashed) # hash em binário\r\n",
    "print(hashed.decode())# hash decode\r\n",
    "\r\n",
    "# conferindo hash iguais\r\n",
    "if bcrypt.checkpw(b'admin', hashed):\r\n",
    "    print('OK!!!')\r\n",
    "else:\r\n",
    "    print('Hash diferente!!!')\r\n",
    "    \r\n",
    "# simulando falha\r\n",
    "if bcrypt.checkpw(b'adminnn', hashed):\r\n",
    "    print('OK!!!')\r\n",
    "else:\r\n",
    "    print('Hash diferente!!!')\r\n"
   ],
   "outputs": [
    {
     "output_type": "stream",
     "name": "stdout",
     "text": [
      "b'$2b$12$1bemRBkyVi8CetHW3MytI.VugDol.bBZ/TL/MWPrznqeSqwhs83XK'\n",
      "$2b$12$1bemRBkyVi8CetHW3MytI.VugDol.bBZ/TL/MWPrznqeSqwhs83XK\n",
      "OK!!!\n",
      "Hash diferente!!!\n"
     ]
    }
   ],
   "metadata": {}
  }
 ]
}